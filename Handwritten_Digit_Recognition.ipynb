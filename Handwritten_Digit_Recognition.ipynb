{
  "nbformat": 4,
  "nbformat_minor": 0,
  "metadata": {
    "colab": {
      "name": "Handwritten_Digit_Recognition.ipynb",
      "provenance": [],
      "collapsed_sections": []
    },
    "kernelspec": {
      "name": "python3",
      "display_name": "Python 3"
    },
    "accelerator": "GPU"
  },
  "cells": [
    {
      "cell_type": "markdown",
      "metadata": {
        "id": "8Vp0zv6tNxxn"
      },
      "source": [
        "Handwritten Digit Recognition"
      ]
    },
    {
      "cell_type": "markdown",
      "metadata": {
        "id": "KqMPqARVN9zK"
      },
      "source": [
        "Importing the libraries"
      ]
    },
    {
      "cell_type": "code",
      "metadata": {
        "id": "OgPj3pWoODr9"
      },
      "source": [
        "import numpy as np\r\n",
        "import tensorflow as tf\r\n",
        "import matplotlib.pyplot as plt\r\n",
        "import keras\r\n",
        "import random"
      ],
      "execution_count": 1,
      "outputs": []
    },
    {
      "cell_type": "markdown",
      "metadata": {
        "id": "UZSUm5UyOiVv"
      },
      "source": [
        "Data Preprocessing"
      ]
    },
    {
      "cell_type": "code",
      "metadata": {
        "id": "nSU3KWvCS7sJ"
      },
      "source": [
        "from keras.datasets import mnist\r\n",
        "\r\n",
        "# Loading Dataset\r\n",
        "(X_train, y_train), (X_test, y_test) = mnist.load_data()\r\n",
        "\r\n",
        "X_train = X_train.reshape(X_train.shape[0], 28, 28, 1)\r\n",
        "\r\n",
        "X_test = X_test.reshape(X_test.shape[0], 28, 28, 1)\r\n",
        "\r\n",
        "# Feature Scaling\r\n",
        "X_train = X_train/255\r\n",
        "\r\n",
        "X_test = X_test/255\r\n",
        "\r\n",
        "# Encoding Categorical Data\r\n",
        "from sklearn.preprocessing import OneHotEncoder\r\n",
        "\r\n",
        "encoder = OneHotEncoder()\r\n",
        "\r\n",
        "y_train = y_train.reshape(-1,1)\r\n",
        "y_test = y_test.reshape(-1,1)\r\n",
        "\r\n",
        "encoder.fit(y_train)\r\n",
        "\r\n",
        "y_train = encoder.transform(y_train).toarray()\r\n",
        "y_test = encoder.transform(y_test).toarray()"
      ],
      "execution_count": 2,
      "outputs": []
    },
    {
      "cell_type": "markdown",
      "metadata": {
        "id": "rSSfNRwZcnj9"
      },
      "source": [
        "Building the CNN"
      ]
    },
    {
      "cell_type": "code",
      "metadata": {
        "id": "jZYnWeK6cq32"
      },
      "source": [
        "# Initializing CNN\r\n",
        "cnn = tf.keras.models.Sequential()\r\n",
        "\r\n",
        "# Adding first convolution layer\r\n",
        "cnn.add(tf.keras.layers.Conv2D(filters=50, kernel_size=5, activation='relu', input_shape=[28, 28, 1]))\r\n",
        "cnn.add(tf.keras.layers.MaxPool2D(pool_size=2, strides=2))\r\n",
        "\r\n",
        "# Adding Second convolution layer\r\n",
        "cnn.add(tf.keras.layers.Conv2D(filters=100, kernel_size=5, activation='relu'))\r\n",
        "cnn.add(tf.keras.layers.MaxPool2D(pool_size=2, strides=2))\r\n",
        "\r\n",
        "# Adding flattened layer of all features\r\n",
        "cnn.add(tf.keras.layers.Flatten())\r\n",
        "\r\n",
        "# Adding Fully connected layer\r\n",
        "cnn.add(tf.keras.layers.Dense(units=256, activation='relu'))\r\n",
        "\r\n",
        "# Adding output layer\r\n",
        "cnn.add(tf.keras.layers.Dense(units=10, activation='softmax'))"
      ],
      "execution_count": 3,
      "outputs": []
    },
    {
      "cell_type": "markdown",
      "metadata": {
        "id": "4YWKjuX5dc7G"
      },
      "source": [
        "Training the CNN"
      ]
    },
    {
      "cell_type": "code",
      "metadata": {
        "colab": {
          "base_uri": "https://localhost:8080/"
        },
        "id": "yRnaRm_gdhDd",
        "outputId": "08c18795-d748-40bd-a4d7-349f95dcc29b"
      },
      "source": [
        "# Compiling the model \r\n",
        "cnn.compile(optimizer ='adam', loss = 'categorical_crossentropy', metrics = ['accuracy'])\r\n",
        "\r\n",
        "# Training the model\r\n",
        "cnn.fit(X_train, y_train, batch_size = 64, epochs = 25, verbose=1,validation_data = (X_test, y_test))"
      ],
      "execution_count": 4,
      "outputs": [
        {
          "output_type": "stream",
          "text": [
            "Epoch 1/25\n",
            "938/938 [==============================] - 6s 4ms/step - loss: 0.2755 - accuracy: 0.9151 - val_loss: 0.0404 - val_accuracy: 0.9862\n",
            "Epoch 2/25\n",
            "938/938 [==============================] - 4s 4ms/step - loss: 0.0396 - accuracy: 0.9877 - val_loss: 0.0263 - val_accuracy: 0.9920\n",
            "Epoch 3/25\n",
            "938/938 [==============================] - 4s 4ms/step - loss: 0.0235 - accuracy: 0.9927 - val_loss: 0.0239 - val_accuracy: 0.9924\n",
            "Epoch 4/25\n",
            "938/938 [==============================] - 4s 4ms/step - loss: 0.0168 - accuracy: 0.9947 - val_loss: 0.0247 - val_accuracy: 0.9926\n",
            "Epoch 5/25\n",
            "938/938 [==============================] - 4s 4ms/step - loss: 0.0141 - accuracy: 0.9954 - val_loss: 0.0304 - val_accuracy: 0.9909\n",
            "Epoch 6/25\n",
            "938/938 [==============================] - 4s 4ms/step - loss: 0.0102 - accuracy: 0.9967 - val_loss: 0.0286 - val_accuracy: 0.9919\n",
            "Epoch 7/25\n",
            "938/938 [==============================] - 4s 4ms/step - loss: 0.0075 - accuracy: 0.9975 - val_loss: 0.0258 - val_accuracy: 0.9927\n",
            "Epoch 8/25\n",
            "938/938 [==============================] - 4s 4ms/step - loss: 0.0053 - accuracy: 0.9982 - val_loss: 0.0367 - val_accuracy: 0.9902\n",
            "Epoch 9/25\n",
            "938/938 [==============================] - 4s 4ms/step - loss: 0.0076 - accuracy: 0.9976 - val_loss: 0.0428 - val_accuracy: 0.9912\n",
            "Epoch 10/25\n",
            "938/938 [==============================] - 4s 4ms/step - loss: 0.0063 - accuracy: 0.9980 - val_loss: 0.0298 - val_accuracy: 0.9930\n",
            "Epoch 11/25\n",
            "938/938 [==============================] - 4s 4ms/step - loss: 0.0056 - accuracy: 0.9980 - val_loss: 0.0288 - val_accuracy: 0.9928\n",
            "Epoch 12/25\n",
            "938/938 [==============================] - 4s 4ms/step - loss: 0.0025 - accuracy: 0.9993 - val_loss: 0.0303 - val_accuracy: 0.9924\n",
            "Epoch 13/25\n",
            "938/938 [==============================] - 4s 4ms/step - loss: 0.0048 - accuracy: 0.9985 - val_loss: 0.0345 - val_accuracy: 0.9907\n",
            "Epoch 14/25\n",
            "938/938 [==============================] - 4s 4ms/step - loss: 0.0023 - accuracy: 0.9991 - val_loss: 0.0448 - val_accuracy: 0.9910\n",
            "Epoch 15/25\n",
            "938/938 [==============================] - 4s 4ms/step - loss: 0.0066 - accuracy: 0.9981 - val_loss: 0.0420 - val_accuracy: 0.9919\n",
            "Epoch 16/25\n",
            "938/938 [==============================] - 4s 4ms/step - loss: 0.0031 - accuracy: 0.9991 - val_loss: 0.0403 - val_accuracy: 0.9935\n",
            "Epoch 17/25\n",
            "938/938 [==============================] - 4s 4ms/step - loss: 0.0040 - accuracy: 0.9990 - val_loss: 0.0384 - val_accuracy: 0.9934\n",
            "Epoch 18/25\n",
            "938/938 [==============================] - 4s 4ms/step - loss: 0.0037 - accuracy: 0.9986 - val_loss: 0.0314 - val_accuracy: 0.9939\n",
            "Epoch 19/25\n",
            "938/938 [==============================] - 4s 4ms/step - loss: 0.0013 - accuracy: 0.9996 - val_loss: 0.0453 - val_accuracy: 0.9921\n",
            "Epoch 20/25\n",
            "938/938 [==============================] - 4s 4ms/step - loss: 0.0033 - accuracy: 0.9990 - val_loss: 0.0416 - val_accuracy: 0.9914\n",
            "Epoch 21/25\n",
            "938/938 [==============================] - 4s 4ms/step - loss: 0.0027 - accuracy: 0.9991 - val_loss: 0.0433 - val_accuracy: 0.9918\n",
            "Epoch 22/25\n",
            "938/938 [==============================] - 4s 4ms/step - loss: 0.0044 - accuracy: 0.9988 - val_loss: 0.0336 - val_accuracy: 0.9937\n",
            "Epoch 23/25\n",
            "938/938 [==============================] - 4s 4ms/step - loss: 0.0016 - accuracy: 0.9996 - val_loss: 0.0468 - val_accuracy: 0.9923\n",
            "Epoch 24/25\n",
            "938/938 [==============================] - 4s 4ms/step - loss: 0.0044 - accuracy: 0.9985 - val_loss: 0.0379 - val_accuracy: 0.9932\n",
            "Epoch 25/25\n",
            "938/938 [==============================] - 4s 4ms/step - loss: 0.0016 - accuracy: 0.9995 - val_loss: 0.0430 - val_accuracy: 0.9935\n"
          ],
          "name": "stdout"
        },
        {
          "output_type": "execute_result",
          "data": {
            "text/plain": [
              "<tensorflow.python.keras.callbacks.History at 0x7f797031c438>"
            ]
          },
          "metadata": {
            "tags": []
          },
          "execution_count": 4
        }
      ]
    },
    {
      "cell_type": "markdown",
      "metadata": {
        "id": "CxFY-y68CCPU"
      },
      "source": [
        "Computing Confusion Matrix"
      ]
    },
    {
      "cell_type": "code",
      "metadata": {
        "colab": {
          "base_uri": "https://localhost:8080/"
        },
        "id": "fYvnsfBFiklU",
        "outputId": "9abfcea9-b68e-485d-a5f3-e96fa776af88"
      },
      "source": [
        "from sklearn.metrics import multilabel_confusion_matrix, accuracy_score\r\n",
        "y_pred = cnn.predict(X_test)\r\n",
        "for i in range(y_pred.shape[0]):\r\n",
        "  curr_max = 0\r\n",
        "  category = -1\r\n",
        "  for j in range(10):\r\n",
        "    if y_pred[i][j] > curr_max:\r\n",
        "      curr_max = y_pred[i][j]\r\n",
        "      category = j\r\n",
        "  for j in range(10):\r\n",
        "    if j == category:\r\n",
        "      y_pred[i][j] = 1\r\n",
        "    else:\r\n",
        "      y_pred[i][j] = 0\r\n",
        "\r\n",
        "from sklearn.metrics import multilabel_confusion_matrix, accuracy_score\r\n",
        "\r\n",
        "print('Confusion matrix :\\n',multilabel_confusion_matrix(y_test, y_pred))\r\n",
        "print('Test accuracy :',accuracy_score(y_test, y_pred))"
      ],
      "execution_count": 5,
      "outputs": [
        {
          "output_type": "stream",
          "text": [
            "Confusion matrix :\n",
            " [[[9018    2]\n",
            "  [   3  977]]\n",
            "\n",
            " [[8855   10]\n",
            "  [   1 1134]]\n",
            "\n",
            " [[8964    4]\n",
            "  [  10 1022]]\n",
            "\n",
            " [[8985    5]\n",
            "  [   5 1005]]\n",
            "\n",
            " [[9012    6]\n",
            "  [   6  976]]\n",
            "\n",
            " [[9096   12]\n",
            "  [   5  887]]\n",
            "\n",
            " [[9039    3]\n",
            "  [   8  950]]\n",
            "\n",
            " [[8962   10]\n",
            "  [   8 1020]]\n",
            "\n",
            " [[9020    6]\n",
            "  [   7  967]]\n",
            "\n",
            " [[8984    7]\n",
            "  [  12  997]]]\n",
            "Test accuracy : 0.9935\n"
          ],
          "name": "stdout"
        }
      ]
    },
    {
      "cell_type": "markdown",
      "metadata": {
        "id": "b9_YKfnw2phQ"
      },
      "source": [
        "Visualizing random result from TestSet"
      ]
    },
    {
      "cell_type": "code",
      "metadata": {
        "id": "cZecU8IT7ZOD"
      },
      "source": [
        "def visualize_random_test():\r\n",
        "  index = random.randrange(X_test.shape[0])\r\n",
        "  print('image number :',index)\r\n",
        "  imgplot = plt.imshow(X_test[index].reshape(28,28))\r\n",
        "  print('Actual Result    : ',y_test[index])\r\n",
        "  print('Predicted Result : ',y_pred[index])"
      ],
      "execution_count": 7,
      "outputs": []
    },
    {
      "cell_type": "code",
      "metadata": {
        "colab": {
          "base_uri": "https://localhost:8080/",
          "height": 315
        },
        "id": "pY2li0w_x33K",
        "outputId": "3f9a4829-ab73-43d7-e13d-3fcfd7701db0"
      },
      "source": [
        "visualize_random_test()"
      ],
      "execution_count": 8,
      "outputs": [
        {
          "output_type": "stream",
          "text": [
            "image number : 3358\n",
            "Actual Result    :  [1. 0. 0. 0. 0. 0. 0. 0. 0. 0.]\n",
            "Predicted Result :  [1. 0. 0. 0. 0. 0. 0. 0. 0. 0.]\n"
          ],
          "name": "stdout"
        },
        {
          "output_type": "display_data",
          "data": {
            "image/png": "[encoded data removed]",
            "text/plain": [
              "<Figure size 432x288 with 1 Axes>"
            ]
          },
          "metadata": {
            "tags": [],
            "needs_background": "light"
          }
        }
      ]
    },
    {
      "cell_type": "code",
      "metadata": {
        "colab": {
          "base_uri": "https://localhost:8080/",
          "height": 315
        },
        "id": "OVBYyuSk5Lfn",
        "outputId": "edf5ef0c-f16f-4398-d6a7-015526ac6f33"
      },
      "source": [
        "visualize_random_test()"
      ],
      "execution_count": 9,
      "outputs": [
        {
          "output_type": "stream",
          "text": [
            "image number : 9788\n",
            "Actual Result    :  [0. 0. 0. 0. 0. 0. 0. 1. 0. 0.]\n",
            "Predicted Result :  [0. 0. 0. 0. 0. 0. 0. 1. 0. 0.]\n"
          ],
          "name": "stdout"
        },
        {
          "output_type": "display_data",
          "data": {
            "image/png": "[encoded data removed]",
            "text/plain": [
              "<Figure size 432x288 with 1 Axes>"
            ]
          },
          "metadata": {
            "tags": [],
            "needs_background": "light"
          }
        }
      ]
    },
    {
      "cell_type": "code",
      "metadata": {
        "colab": {
          "base_uri": "https://localhost:8080/",
          "height": 315
        },
        "id": "M3pMqwmc5Y-b",
        "outputId": "c92163bb-c58d-43e0-dc73-c2eb9987685c"
      },
      "source": [
        "visualize_random_test()"
      ],
      "execution_count": 10,
      "outputs": [
        {
          "output_type": "stream",
          "text": [
            "image number : 7928\n",
            "Actual Result    :  [0. 1. 0. 0. 0. 0. 0. 0. 0. 0.]\n",
            "Predicted Result :  [0. 1. 0. 0. 0. 0. 0. 0. 0. 0.]\n"
          ],
          "name": "stdout"
        },
        {
          "output_type": "display_data",
          "data": {
            "image/png": "[encoded data removed]",
            "text/plain": [
              "<Figure size 432x288 with 1 Axes>"
            ]
          },
          "metadata": {
            "tags": [],
            "needs_background": "light"
          }
        }
      ]
    },
    {
      "cell_type": "markdown",
      "metadata": {
        "id": "kby0e7ETBL2e"
      },
      "source": [
        "Predictions from images other than Dataset"
      ]
    },
    {
      "cell_type": "code",
      "metadata": {
        "id": "z6OyU65IiqK4"
      },
      "source": [
        "from keras.preprocessing import image\r\n",
        "def visualize_other_test(test_image):\r\n",
        "  test_image = image.img_to_array(test_image)\r\n",
        "  test_image = test_image/256\r\n",
        "  test_image = 1 - test_image\r\n",
        "  result = cnn.predict(test_image.reshape(1,28,28,1))[0]\r\n",
        "\r\n",
        "  curr_max = 0\r\n",
        "  category = -1\r\n",
        "  for j in range(10):\r\n",
        "    if result[j] > curr_max:\r\n",
        "      curr_max = result[j]\r\n",
        "      category = j\r\n",
        "  for j in range(10):\r\n",
        "    if j == category:\r\n",
        "      result[j] = 1\r\n",
        "    else:\r\n",
        "      result[j] = 0\r\n",
        "\r\n",
        "  print('Prediction : ',result)\r\n",
        "  imgplot = plt.imshow(test_image.reshape(28,28))"
      ],
      "execution_count": 11,
      "outputs": []
    },
    {
      "cell_type": "code",
      "metadata": {
        "colab": {
          "base_uri": "https://localhost:8080/",
          "height": 282
        },
        "id": "OkcZlcYf89_o",
        "outputId": "288c42fc-0a73-48e0-afac-0135a786ad78"
      },
      "source": [
        " test_image = image.load_img('/content/2.png', color_mode=\"grayscale\", target_size = (28, 28))\r\n",
        " visualize_other_test(test_image)"
      ],
      "execution_count": 12,
      "outputs": [
        {
          "output_type": "stream",
          "text": [
            "Prediction :  [0. 0. 1. 0. 0. 0. 0. 0. 0. 0.]\n"
          ],
          "name": "stdout"
        },
        {
          "output_type": "display_data",
          "data": {
            "image/png": "[encoded data removed]",
            "text/plain": [
              "<Figure size 432x288 with 1 Axes>"
            ]
          },
          "metadata": {
            "tags": [],
            "needs_background": "light"
          }
        }
      ]
    },
    {
      "cell_type": "code",
      "metadata": {
        "colab": {
          "base_uri": "https://localhost:8080/",
          "height": 282
        },
        "id": "_IgV7HOJ7N6f",
        "outputId": "710f293a-9efc-47d4-94ec-f8fa94be8a5d"
      },
      "source": [
        "test_image = image.load_img('/content/5.png', color_mode=\"grayscale\", target_size = (28, 28))\r\n",
        "visualize_other_test(test_image)"
      ],
      "execution_count": 13,
      "outputs": [
        {
          "output_type": "stream",
          "text": [
            "Prediction :  [0. 0. 0. 0. 0. 1. 0. 0. 0. 0.]\n"
          ],
          "name": "stdout"
        },
        {
          "output_type": "display_data",
          "data": {
            "image/png": "[encoded data removed]",
            "text/plain": [
              "<Figure size 432x288 with 1 Axes>"
            ]
          },
          "metadata": {
            "tags": [],
            "needs_background": "light"
          }
        }
      ]
    },
    {
      "cell_type": "code",
      "metadata": {
        "colab": {
          "base_uri": "https://localhost:8080/",
          "height": 282
        },
        "id": "2sb82qrA9fLL",
        "outputId": "ecd22d37-ec48-4b72-c940-10933260d7fc"
      },
      "source": [
        "test_image = image.load_img('/content/9.png', color_mode=\"grayscale\", target_size = (28, 28))\r\n",
        "visualize_other_test(test_image)"
      ],
      "execution_count": 14,
      "outputs": [
        {
          "output_type": "stream",
          "text": [
            "Prediction :  [0. 0. 0. 0. 0. 0. 0. 0. 0. 1.]\n"
          ],
          "name": "stdout"
        },
        {
          "output_type": "display_data",
          "data": {
            "image/png": "[encoded data removed]",
            "text/plain": [
              "<Figure size 432x288 with 1 Axes>"
            ]
          },
          "metadata": {
            "tags": [],
            "needs_background": "light"
          }
        }
      ]
    },
    {
      "cell_type": "markdown",
      "metadata": {
        "id": "jpvFRisl-Yix"
      },
      "source": [
        "Saving Model Data"
      ]
    },
    {
      "cell_type": "code",
      "metadata": {
        "colab": {
          "base_uri": "https://localhost:8080/"
        },
        "id": "_-hX7F2D-ZpA",
        "outputId": "cd690c63-ae82-4c53-92f6-ae872826e42d"
      },
      "source": [
        "cnn.save('Handwritten_Digit_Recognition.h5')\r\n",
        "print(\"Saving the model as Handwritten_Digit_Recognition.h5\")"
      ],
      "execution_count": 15,
      "outputs": [
        {
          "output_type": "stream",
          "text": [
            "Saving the model as Handwritten_Digit_Recognition.h5\n"
          ],
          "name": "stdout"
        }
      ]
    }
  ]
}